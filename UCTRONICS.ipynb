{
 "cells": [
  {
   "cell_type": "code",
   "execution_count": 2,
   "metadata": {},
   "outputs": [
    {
     "data": {
      "text/plain": [
       "'\\nb = bytearray()\\n# Send one character to the socket\\nmy_bytes.append(b\"MD_up_left\\r\\n\")\\nmy_bytes.append(b\"MD_up\\r\\n\")\\nmy_bytes.append(b\"MD_stop\\r\\n\")\\nmy_bytes.append(b\"MD_up_right\\r\\n\")\\nmy_bytes.append(b\"MD_right\\r\\n\")\\nmy_bytes.append(b\"MD_stop\\r\\n\")\\nmy_bytes.append(b\"MD_up_left\\r\\n\")\\nmy_bytes.append(b\"MD_up_left\\r\\n\")\\n'"
      ]
     },
     "execution_count": 2,
     "metadata": {},
     "output_type": "execute_result"
    }
   ],
   "source": [
    "import socket\n",
    "import time\n",
    "import array\n",
    "import threading\n",
    "\n",
    "# Each address on the Internet is identified by an ip-address\n",
    "# and a port number.\n",
    "robot_ip_address = \"192.168.1.1\"  # Change to applicable\n",
    "robot_port       = 2001       # Change to applicable\n",
    "\n",
    "# Create a socket\n",
    "s = socket.socket(socket.AF_INET, socket.SOCK_STREAM)\n",
    "\n",
    "# Connect to somewhere...\n",
    "s.connect((robot_ip_address, robot_port)) #connect actually\n",
    "\n",
    "def forward():\n",
    "    s.send(bytes([115,100,0,0]))\n",
    "    s.send(bytes([1])) #FORWARD\n",
    "\n",
    "    time.sleep(0.1)\n",
    "\n",
    "    s.send(bytes([5])) #STOP\n",
    "    \n",
    "    time.sleep(4)\n",
    "\"\"\"\n",
    "\n",
    "time.sleep(1)\n",
    "s.send(bytearray(\"SZ_K0T150\\r\\n\\n\\r\\n\\n\", 'utf-8'))\n",
    "time.sleep(0.5)\n",
    "s.send(bytearray(\"MD_up_left\\r\\n\", 'utf-8'))\n",
    "time.sleep(0.5)\n",
    "s.send(bytearray(\"MD_stop\\r\\n\", 'utf-8'))\n",
    "time.sleep(0.5)\n",
    "s.send(bytearray(\"MD_up_right\\r\\n\", 'utf-8'))\n",
    "time.sleep(0.5)\n",
    "s.send(bytearray(\"MD_right\\r\\n\", 'utf-8'))\n",
    "time.sleep(0.5)\n",
    "s.send(bytearray(\"MD_up_left\\r\\n\", 'utf-8'))\n",
    "time.sleep(0.5)\n",
    "s.send(bytearray(\"MD_up\\r\\n\\n\", 'utf-8'))\n",
    "time.sleep(0.5)\n",
    "\n",
    "\"\"\"\n",
    "\"\"\"\n",
    "b = bytearray()\n",
    "# Send one character to the socket\n",
    "my_bytes.append(b\"MD_up_left\\r\\n\")\n",
    "my_bytes.append(b\"MD_up\\r\\n\")\n",
    "my_bytes.append(b\"MD_stop\\r\\n\")\n",
    "my_bytes.append(b\"MD_up_right\\r\\n\")\n",
    "my_bytes.append(b\"MD_right\\r\\n\")\n",
    "my_bytes.append(b\"MD_stop\\r\\n\")\n",
    "my_bytes.append(b\"MD_up_left\\r\\n\")\n",
    "my_bytes.append(b\"MD_up_left\\r\\n\")\n",
    "\"\"\"\n",
    "# Close the socket after use\n",
    "#s.close()"
   ]
  },
  {
   "cell_type": "code",
   "execution_count": 51,
   "metadata": {},
   "outputs": [
    {
     "data": {
      "text/plain": [
       "1"
      ]
     },
     "execution_count": 51,
     "metadata": {},
     "output_type": "execute_result"
    }
   ],
   "source": [
    "s.send(bytes([5])) #STOP"
   ]
  },
  {
   "cell_type": "code",
   "execution_count": 29,
   "metadata": {},
   "outputs": [
    {
     "data": {
      "text/plain": [
       "1"
      ]
     },
     "execution_count": 29,
     "metadata": {},
     "output_type": "execute_result"
    }
   ],
   "source": [
    "s.send(bytes([5]))\n",
    "time.sleep(0.1)\n",
    "s.send(bytes([1])) #FORWARD"
   ]
  },
  {
   "cell_type": "code",
   "execution_count": 181,
   "metadata": {},
   "outputs": [
    {
     "data": {
      "text/plain": [
       "1"
      ]
     },
     "execution_count": 181,
     "metadata": {},
     "output_type": "execute_result"
    }
   ],
   "source": [
    "s.send(bytes([5])) #STOP\n",
    "time.sleep(0.1)\n",
    "s.send(bytes([3])) #BACK"
   ]
  },
  {
   "cell_type": "code",
   "execution_count": 85,
   "metadata": {},
   "outputs": [],
   "source": [
    "def left(delay=0.2):\n",
    "    s.send(bytes([115,60,0,0]))\n",
    "    s.send(bytes([1])) #FORWARD\n",
    "\n",
    "    time.sleep(0.1)\n",
    "\n",
    "    speed=0\n",
    "    left=0\n",
    "    right=132\n",
    "    s.send(bytes([115,speed,left,right]))\n",
    "    s.send(bytes([1])) #FORWARD\n",
    "    time.sleep(delay)\n",
    "\n",
    "    s.send(bytes([115,60,0,0]))\n",
    "    s.send(bytes([1])) #FORWARD\n",
    "\n",
    "    time.sleep(0.1)\n",
    "    s.send(bytes([5])) #STOP\n",
    "left(45/90)    \n",
    "#1 is 90degree\n",
    "#0.5 is 45degree"
   ]
  },
  {
   "cell_type": "code",
   "execution_count": 87,
   "metadata": {},
   "outputs": [],
   "source": [
    "def right(delay=0.2):\n",
    "    s.send(bytes([115,60,0,0]))\n",
    "    s.send(bytes([1])) #FORWARD\n",
    "\n",
    "    time.sleep(0.1)\n",
    "\n",
    "    speed=0\n",
    "    right=0\n",
    "    left=132\n",
    "    s.send(bytes([115,speed,left,right]))\n",
    "    s.send(bytes([1])) #FORWARD\n",
    "    time.sleep(delay)\n",
    "\n",
    "    s.send(bytes([115,60,0,0]))\n",
    "    s.send(bytes([1])) #FORWARD\n",
    "\n",
    "    time.sleep(0.1)\n",
    "    s.send(bytes([5])) #STOP\n",
    "right(90/90)    \n",
    "#1 is 90degree\n",
    "#0.5 is 45degree"
   ]
  },
  {
   "cell_type": "code",
   "execution_count": 70,
   "metadata": {},
   "outputs": [],
   "source": [
    "def forward():\n",
    "    s.send(bytes([115,100,0,0]))\n",
    "    s.send(bytes([1])) #FORWARD\n",
    "\n",
    "    time.sleep(0.2)\n",
    "\n",
    "    s.send(bytes([5])) #STOP\n",
    "forward()    "
   ]
  },
  {
   "cell_type": "code",
   "execution_count": 50,
   "metadata": {},
   "outputs": [
    {
     "data": {
      "text/plain": [
       "1"
      ]
     },
     "execution_count": 50,
     "metadata": {},
     "output_type": "execute_result"
    }
   ],
   "source": [
    "s.send(bytes([5])) #STOP\n",
    "time.sleep(0.2)\n",
    "s.send(bytes([0])) #LEFT\n",
    "time.sleep(0.7)\n",
    "s.send(bytes([1]))\n",
    "\n",
    "def forward():\n",
    "    s.send(bytes([115,100,0,0]))\n",
    "    s.send(bytes([1])) #FORWARD\n",
    "\n",
    "    time.sleep(0.2)\n",
    "\n",
    "    s.send(bytes([5])) #STOP\n",
    "forward()  "
   ]
  },
  {
   "cell_type": "code",
   "execution_count": 205,
   "metadata": {},
   "outputs": [
    {
     "data": {
      "text/plain": [
       "1"
      ]
     },
     "execution_count": 205,
     "metadata": {},
     "output_type": "execute_result"
    }
   ],
   "source": [
    "s.send(bytes([5])) #STOP\n",
    "time.sleep(0.7)\n",
    "s.send(bytes([2])) #RIGHT\n",
    "time.sleep(0.7)\n",
    "s.send(bytes([1])) #FORWARD"
   ]
  },
  {
   "cell_type": "code",
   "execution_count": 1,
   "metadata": {},
   "outputs": [
    {
     "ename": "NameError",
     "evalue": "name 's' is not defined",
     "output_type": "error",
     "traceback": [
      "\u001b[0;31m---------------------------------------------------------------------------\u001b[0m",
      "\u001b[0;31mNameError\u001b[0m                                 Traceback (most recent call last)",
      "\u001b[0;32m<ipython-input-1-562665b7cbc6>\u001b[0m in \u001b[0;36m<module>\u001b[0;34m\u001b[0m\n\u001b[0;32m----> 1\u001b[0;31m \u001b[0ms\u001b[0m\u001b[0;34m.\u001b[0m\u001b[0mclose\u001b[0m\u001b[0;34m(\u001b[0m\u001b[0;34m)\u001b[0m\u001b[0;34m\u001b[0m\u001b[0;34m\u001b[0m\u001b[0m\n\u001b[0m",
      "\u001b[0;31mNameError\u001b[0m: name 's' is not defined"
     ]
    }
   ],
   "source": [
    "s.close()"
   ]
  },
  {
   "cell_type": "code",
   "execution_count": null,
   "metadata": {
    "scrolled": true
   },
   "outputs": [],
   "source": [
    "import socket\n",
    "from threading import *\n",
    "\n",
    "serversocket = socket.socket(socket.AF_INET, socket.SOCK_STREAM)\n",
    "host = \"192.168.1.1\"\n",
    "port = 2001\n",
    "print (host)\n",
    "print (port)\n",
    "serversocket.bind((host, port))\n",
    "\n",
    "class client(Thread):\n",
    "    def __init__(self, socket, address):\n",
    "        Thread.__init__(self)\n",
    "        self.sock = socket\n",
    "        self.addr = address\n",
    "        self.start()\n",
    "\n",
    "    def run(self):\n",
    "        while 1:\n",
    "            print('Client sent:', self.sock.recv(1024).decode())\n",
    "            self.sock.send(b'MD_up')\n",
    "\n",
    "serversocket.listen(5)\n",
    "print ('server started and listening')\n",
    "while 1:\n",
    "    clientsocket, address = serversocket.accept()\n",
    "    client(clientsocket, address)"
   ]
  },
  {
   "cell_type": "code",
   "execution_count": null,
   "metadata": {},
   "outputs": [],
   "source": [
    "command.put(\"car_forward\", Byte.valueOf((byte) 1));\n",
    "command.put(\"car_back\", Byte.valueOf((byte) 3));\n",
    "command.put(\"car_left\", Byte.valueOf((byte) 0));\n",
    "command.put(\"car_left_stop\", Byte.valueOf((byte) 4));\n",
    "command.put(\"car_right\", Byte.valueOf((byte) 2));\n",
    "command.put(\"car_right_stop\", Byte.valueOf((byte) 6));\n",
    "command.put(\"car_stop\", Byte.valueOf((byte) 5));\n",
    "command.put(\"camera_up\", Byte.valueOf((byte) 9));\n",
    "command.put(\"camera_down\", Byte.valueOf((byte) 10));\n",
    "command.put(\"camera_left\", Byte.valueOf((byte) 7));\n",
    "command.put(\"camera_right\", Byte.valueOf((byte) 8));\n",
    "command.put(\"car_track\", Byte.valueOf((byte) 11));\n",
    "command.put(\"car_track_stop\", Byte.valueOf((byte) 12));\n",
    "command.put(\"beep\", Byte.valueOf((byte) 15));\n",
    "command.put(\"beep_stop\", Byte.valueOf((byte) 16));\n",
    "command.put(\"avoidance\", Byte.valueOf((byte) 17));\n",
    "command.put(\"power_off\", Byte.valueOf((byte) 19));"
   ]
  },
  {
   "cell_type": "code",
   "execution_count": null,
   "metadata": {},
   "outputs": [],
   "source": [
    "import cv2\n",
    "import numpy as np\n",
    "import matplotlib.pyplot as plt\n",
    "import matplotlib.image as mpimg\n",
    "\n",
    "\n",
    "\n",
    "def readCamera():\n",
    "    cap = cv2.VideoCapture('http://192.168.1.1:8080/?action=stream')\n",
    "    cap.set(cv2.CAP_PROP_BUFFERSIZE,0)\n",
    "    if (cap.isOpened()== False): \n",
    "        print(\"Error opening video stream or file\")\n",
    "    ret,frame = cap.read()\n",
    "    if (ret == True):\n",
    "        return frame\n",
    "    \n",
    "ret = True\n",
    "\n",
    "i=0\n",
    "while (ret):\n",
    "    i += 1\n",
    "    #ret,frame = cap.read()\n",
    "    frame = readCamera()\n",
    "\n",
    "    # Convert to grayscale here.\n",
    "    gray_image = cv2.cvtColor(frame, cv2.COLOR_RGB2GRAY)\n",
    "    cv2.putText(gray_image, str(i), (300, 400), cv2.FONT_HERSHEY_SIMPLEX, 1.0, (255, 255, 255), lineType=cv2.LINE_AA) \n",
    "    \n",
    "    x = threading.Thread(target=forward)\n",
    "    x.start()\n",
    "    x.join()\n",
    "    \n",
    "    cv2.imshow(\"gray\",gray_image)\n",
    "    \n",
    "       \n",
    "    if cv2.waitKey(25) & 0xFF == ord('q'):\n",
    "            cv2.destroyAllWindows()\n",
    "            cap.release()\n",
    "            break # destroy all the opened windows"
   ]
  },
  {
   "cell_type": "code",
   "execution_count": 1,
   "metadata": {},
   "outputs": [
    {
     "ename": "ModuleNotFoundError",
     "evalue": "No module named 'Queue'",
     "output_type": "error",
     "traceback": [
      "\u001b[0;31m---------------------------------------------------------------------------\u001b[0m",
      "\u001b[0;31mModuleNotFoundError\u001b[0m                       Traceback (most recent call last)",
      "\u001b[0;32m<ipython-input-1-5de503324d1b>\u001b[0m in \u001b[0;36m<module>\u001b[0;34m\u001b[0m\n\u001b[1;32m      1\u001b[0m \u001b[0;32mimport\u001b[0m \u001b[0mthreading\u001b[0m\u001b[0;34m\u001b[0m\u001b[0;34m\u001b[0m\u001b[0m\n\u001b[1;32m      2\u001b[0m \u001b[0;32mimport\u001b[0m \u001b[0mtime\u001b[0m\u001b[0;34m\u001b[0m\u001b[0;34m\u001b[0m\u001b[0m\n\u001b[0;32m----> 3\u001b[0;31m \u001b[0;32mimport\u001b[0m \u001b[0mQueue\u001b[0m\u001b[0;34m\u001b[0m\u001b[0;34m\u001b[0m\u001b[0m\n\u001b[0m\u001b[1;32m      4\u001b[0m \u001b[0;32mimport\u001b[0m \u001b[0mcv2\u001b[0m\u001b[0;34m\u001b[0m\u001b[0;34m\u001b[0m\u001b[0m\n\u001b[1;32m      5\u001b[0m \u001b[0mframes\u001b[0m \u001b[0;34m=\u001b[0m \u001b[0mQueue\u001b[0m\u001b[0;34m(\u001b[0m\u001b[0;36m10\u001b[0m\u001b[0;34m)\u001b[0m\u001b[0;34m\u001b[0m\u001b[0;34m\u001b[0m\u001b[0m\n",
      "\u001b[0;31mModuleNotFoundError\u001b[0m: No module named 'Queue'"
     ]
    }
   ],
   "source": [
    "import threading\n",
    "import time\n",
    "import Queue\n",
    "import cv2\n",
    "frames = Queue(10)\n",
    "\n",
    "class ImageGrabber(threading.Thread):\n",
    "    def __init__(self, ID):\n",
    "        threading.Thread.__init__(self)\n",
    "        self.ID=ID\n",
    "        self.cam=cv2.VideoCapture('http://192.168.1.1:8080/?action=stream')\n",
    "\n",
    "    def Run(self):\n",
    "        global frames\n",
    "        while True:\n",
    "            ret,frame=self.cam.read()\n",
    "            frames.put(frame)\n",
    "            time.sleep(0.1)\n",
    "\n",
    "\n",
    "class Main(threading.Thread):\n",
    "    def __init__(self):\n",
    "        threading.Thread.__init__(self)\n",
    "\n",
    "    def run(self):\n",
    "        global frames\n",
    "        while True:\n",
    "            if(not frames.empty()):\n",
    "                self.Currframe=frames.get()\n",
    "                gray_image = cv2.cvtColor(frame, cv2.COLOR_RGB2GRAY)\n",
    "                cv2.imshow(\"gray\",gray_image)\n",
    "\n",
    "\n",
    "grabber = ImageGrabber(0)\n",
    "main = Main()\n",
    "\n",
    "grabber.start()\n",
    "main.start()\n",
    "main.join()\n",
    "grabber.join()"
   ]
  },
  {
   "cell_type": "code",
   "execution_count": 1,
   "metadata": {},
   "outputs": [
    {
     "ename": "ModuleNotFoundError",
     "evalue": "No module named 'picamera'",
     "output_type": "error",
     "traceback": [
      "\u001b[0;31m---------------------------------------------------------------------------\u001b[0m",
      "\u001b[0;31mModuleNotFoundError\u001b[0m                       Traceback (most recent call last)",
      "\u001b[0;32m<ipython-input-1-4e0d5dfd4767>\u001b[0m in \u001b[0;36m<module>\u001b[0;34m\u001b[0m\n\u001b[1;32m      1\u001b[0m \u001b[0;31m# import the necessary packages\u001b[0m\u001b[0;34m\u001b[0m\u001b[0;34m\u001b[0m\u001b[0;34m\u001b[0m\u001b[0m\n\u001b[0;32m----> 2\u001b[0;31m \u001b[0;32mfrom\u001b[0m \u001b[0mpicamera\u001b[0m\u001b[0;34m.\u001b[0m\u001b[0marray\u001b[0m \u001b[0;32mimport\u001b[0m \u001b[0mPiRGBArray\u001b[0m\u001b[0;34m\u001b[0m\u001b[0;34m\u001b[0m\u001b[0m\n\u001b[0m\u001b[1;32m      3\u001b[0m \u001b[0;32mfrom\u001b[0m \u001b[0mpicamera\u001b[0m \u001b[0;32mimport\u001b[0m \u001b[0mPiCamera\u001b[0m\u001b[0;34m\u001b[0m\u001b[0;34m\u001b[0m\u001b[0m\n\u001b[1;32m      4\u001b[0m \u001b[0;32mimport\u001b[0m \u001b[0mtime\u001b[0m\u001b[0;34m\u001b[0m\u001b[0;34m\u001b[0m\u001b[0m\n\u001b[1;32m      5\u001b[0m \u001b[0;32mimport\u001b[0m \u001b[0mcv2\u001b[0m\u001b[0;34m\u001b[0m\u001b[0;34m\u001b[0m\u001b[0m\n",
      "\u001b[0;31mModuleNotFoundError\u001b[0m: No module named 'picamera'"
     ]
    }
   ],
   "source": [
    "# import the necessary packages\n",
    "from picamera.array import PiRGBArray\n",
    "from picamera import PiCamera\n",
    "import time\n",
    "import cv2\n",
    " \n",
    "# initialize the camera and grab a reference to the raw camera capture\n",
    "camera = PiCamera()\n",
    "camera.resolution = (640, 480)\n",
    "camera.framerate = 32\n",
    "rawCapture = PiRGBArray(camera, size=(640, 480))\n",
    " \n",
    "# allow the camera to warmup\n",
    "time.sleep(0.1)\n",
    " \n",
    "# capture frames from the camera\n",
    "for frame in camera.capture_continuous(rawCapture, format=\"bgr\", use_video_port=True):\n",
    "\t# grab the raw NumPy array representing the image, then initialize the timestamp\n",
    "\t# and occupied/unoccupied text\n",
    "\timage = frame.array\n",
    " \n",
    "\t# show the frame\n",
    "\tcv2.imshow(\"Frame\", image)\n",
    "\tkey = cv2.waitKey(1) & 0xFF\n",
    " \n",
    "\t# clear the stream in preparation for the next frame\n",
    "\trawCapture.truncate(0)\n",
    " \n",
    "\t# if the `q` key was pressed, break from the loop\n",
    "\tif key == ord(\"q\"):\n",
    "\t\tbreak"
   ]
  },
  {
   "cell_type": "code",
   "execution_count": null,
   "metadata": {},
   "outputs": [],
   "source": []
  }
 ],
 "metadata": {
  "kernelspec": {
   "display_name": "Python 3",
   "language": "python",
   "name": "python3"
  },
  "language_info": {
   "codemirror_mode": {
    "name": "ipython",
    "version": 3
   },
   "file_extension": ".py",
   "mimetype": "text/x-python",
   "name": "python",
   "nbconvert_exporter": "python",
   "pygments_lexer": "ipython3",
   "version": "3.6.8"
  }
 },
 "nbformat": 4,
 "nbformat_minor": 2
}
